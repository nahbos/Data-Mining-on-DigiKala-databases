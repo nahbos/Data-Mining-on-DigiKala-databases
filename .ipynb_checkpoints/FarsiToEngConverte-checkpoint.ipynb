{
 "cells": [
  {
   "cell_type": "code",
   "execution_count": 7,
   "metadata": {},
   "outputs": [],
   "source": [
    "import re"
   ]
  },
  {
   "cell_type": "code",
   "execution_count": 8,
   "metadata": {},
   "outputs": [],
   "source": [
    "def convert_en_characters(input_str):\n",
    "    \n",
    "    mapping = {\n",
    "        'ا': 'a',\n",
    "        'آ': 'a',\n",
    "        'ب': 'b',\n",
    "        'پ': 'p',\n",
    "        'ت': 't',\n",
    "        'ث': 's',\n",
    "        'ج': 'j',\n",
    "        'چ': 'ch',\n",
    "        'ح': 'h',\n",
    "        'خ': 'kh',\n",
    "        'د': 'd',\n",
    "        'ذ': 'z',\n",
    "        'ر': 'r',\n",
    "        'ز': 'z',\n",
    "        'ژ': 'zh',\n",
    "        'س': 's',\n",
    "        'ش': 'sh',\n",
    "        'ص': 's',\n",
    "        'ض': 'a',\n",
    "        'ط': 't',\n",
    "        'ظ': 'z',\n",
    "        'ع': 'a',\n",
    "        'غ': 'gh',\n",
    "        \"ف\": 'f',\n",
    "        'ق': 'gh',\n",
    "        'ک': 'k',\n",
    "        'گ': 'g',\n",
    "        'ل': 'l',\n",
    "        'م': 'm',\n",
    "        'ن': 'n',\n",
    "        'و': 'o',\n",
    "        'ه': 'h',\n",
    "        'ی': 'i',\n",
    "    }\n",
    "    return _multiple_replace(mapping, input_str)"
   ]
  },
  {
   "cell_type": "code",
   "execution_count": 9,
   "metadata": {},
   "outputs": [],
   "source": [
    "def _multiple_replace(mapping, text):\n",
    "    pattern = \"|\".join(map(re.escape, mapping.keys()))\n",
    "    return re.sub(pattern, lambda m: mapping[m.group()], str(text))"
   ]
  },
  {
   "cell_type": "code",
   "execution_count": null,
   "metadata": {},
   "outputs": [],
   "source": []
  },
  {
   "cell_type": "code",
   "execution_count": 10,
   "metadata": {},
   "outputs": [
    {
     "data": {
      "text/plain": [
       "'goshi mobail'"
      ]
     },
     "execution_count": 10,
     "metadata": {},
     "output_type": "execute_result"
    }
   ],
   "source": [
    "convert_en_characters(\"گوشی موبایل\")"
   ]
  },
  {
   "cell_type": "code",
   "execution_count": 11,
   "metadata": {},
   "outputs": [
    {
     "data": {
      "text/plain": [
       "'hdfon bisim'"
      ]
     },
     "execution_count": 11,
     "metadata": {},
     "output_type": "execute_result"
    }
   ],
   "source": [
    "convert_en_characters(\"هدفون بیسیم\")"
   ]
  },
  {
   "cell_type": "code",
   "execution_count": 12,
   "metadata": {},
   "outputs": [
    {
     "data": {
      "text/plain": [
       "'sak dsti'"
      ]
     },
     "execution_count": 12,
     "metadata": {},
     "output_type": "execute_result"
    }
   ],
   "source": [
    "convert_en_characters(\"ساک دستی\")"
   ]
  },
  {
   "cell_type": "code",
   "execution_count": null,
   "metadata": {},
   "outputs": [],
   "source": []
  }
 ],
 "metadata": {
  "kernelspec": {
   "display_name": "Python 3",
   "language": "python",
   "name": "python3"
  },
  "language_info": {
   "codemirror_mode": {
    "name": "ipython",
    "version": 3
   },
   "file_extension": ".py",
   "mimetype": "text/x-python",
   "name": "python",
   "nbconvert_exporter": "python",
   "pygments_lexer": "ipython3",
   "version": "3.6.8"
  }
 },
 "nbformat": 4,
 "nbformat_minor": 4
}
