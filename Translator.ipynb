{
 "cells": [
  {
   "cell_type": "markdown",
   "metadata": {},
   "source": [
    "### Copyright (C) 2020 Sobhan Moradiyan Daghigh - All Rights Reserved\n",
    "\n",
    "## Translator\n",
    "#### 1/7/2021"
   ]
  },
  {
   "cell_type": "code",
   "execution_count": 1,
   "metadata": {},
   "outputs": [],
   "source": [
    "# !pip install google_trans_new"
   ]
  },
  {
   "cell_type": "code",
   "execution_count": 2,
   "metadata": {},
   "outputs": [],
   "source": [
    "# !pip install requests"
   ]
  },
  {
   "cell_type": "code",
   "execution_count": 2,
   "metadata": {},
   "outputs": [],
   "source": [
    "from google_trans_new import google_translator\n",
    "import pandas as pd"
   ]
  },
  {
   "cell_type": "code",
   "execution_count": 3,
   "metadata": {},
   "outputs": [],
   "source": [
    "translator = google_translator()"
   ]
  },
  {
   "cell_type": "code",
   "execution_count": 5,
   "metadata": {},
   "outputs": [],
   "source": [
    "text = 'سلام و خسته نباشید به تمامی کارکنان و بازدید کنندگان سایت معتبر دیجی کالا.عزیزانی که برای خرید این هدفون شک دارند باید بگویم که بنده سالهای سال هست که از برند کریتیو استفاده میکنم و تقریبا با تمامی هدفون ها و هدست های این شرکت کار کردم.بنابراین با قاطعیت تمام میگویم که بی کیفیت ترین هدفون و وسیله ی گوش دادان به موسیقی این شرکت هست و پیشنهاد میکنم برای خرید هدفون مبلغی بیشتر  پراخت کنید و مودلی دیگر از این برند تهیه کنید. با تشکر'"
   ]
  },
  {
   "cell_type": "code",
   "execution_count": 6,
   "metadata": {},
   "outputs": [
    {
     "data": {
      "text/plain": [
       "'Really great. I am very satisfied with it '"
      ]
     },
     "execution_count": 6,
     "metadata": {},
     "output_type": "execute_result"
    }
   ],
   "source": [
    "translator.translate('واقعا عالیه. من که ازش خیلی راضیم', lang_src='fa', lang_tgt='english')"
   ]
  },
  {
   "cell_type": "code",
   "execution_count": 4,
   "metadata": {},
   "outputs": [
    {
     "data": {
      "text/plain": [
       "'Very good '"
      ]
     },
     "execution_count": 4,
     "metadata": {},
     "output_type": "execute_result"
    }
   ],
   "source": [
    "translator.translate('خیلی خوبه', lang_src='fa', lang_tgt='english')"
   ]
  },
  {
   "cell_type": "code",
   "execution_count": 7,
   "metadata": {},
   "outputs": [],
   "source": [
    "def translate_fa_2_eng(text):\n",
    "    return translator.translate(text, lang_src='fa', lang_tgt='english')"
   ]
  },
  {
   "cell_type": "code",
   "execution_count": 8,
   "metadata": {},
   "outputs": [
    {
     "data": {
      "text/plain": [
       "'Hello and do not be bored to all employees and visitors of the reputable site of Digi Kala. Dear ones who are skeptical about buying these headphones, I must say that I have been using the Creative brand for many years and I have worked with almost all the headphones and headsets of this company. Therefore, I can say with certainty that it is the lowest quality headphones and device for listening to the music of this company, and I suggest that you pay more to buy headphones and get another model from this brand. Thanks '"
      ]
     },
     "execution_count": 8,
     "metadata": {},
     "output_type": "execute_result"
    }
   ],
   "source": [
    "translate_fa_2_eng(text)"
   ]
  },
  {
   "cell_type": "code",
   "execution_count": 9,
   "metadata": {},
   "outputs": [],
   "source": [
    "dataset = pd.read_csv('preprocessed_dataset.csv')"
   ]
  },
  {
   "cell_type": "code",
   "execution_count": 10,
   "metadata": {},
   "outputs": [
    {
     "data": {
      "text/html": [
       "<div>\n",
       "<style scoped>\n",
       "    .dataframe tbody tr th:only-of-type {\n",
       "        vertical-align: middle;\n",
       "    }\n",
       "\n",
       "    .dataframe tbody tr th {\n",
       "        vertical-align: top;\n",
       "    }\n",
       "\n",
       "    .dataframe thead th {\n",
       "        text-align: right;\n",
       "    }\n",
       "</style>\n",
       "<table border=\"1\" class=\"dataframe\">\n",
       "  <thead>\n",
       "    <tr style=\"text-align: right;\">\n",
       "      <th></th>\n",
       "      <th>product_id</th>\n",
       "      <th>comment</th>\n",
       "      <th>recommend</th>\n",
       "    </tr>\n",
       "  </thead>\n",
       "  <tbody>\n",
       "    <tr>\n",
       "      <th>0</th>\n",
       "      <td>90213</td>\n",
       "      <td>سلام، قبل اینکه نظرم رو بگم میخواستم به یک موض...</td>\n",
       "      <td>recommended</td>\n",
       "    </tr>\n",
       "    <tr>\n",
       "      <th>1</th>\n",
       "      <td>59473</td>\n",
       "      <td>گیره های فلزی خیلی سخت تا میشوند و لذا حوله را...</td>\n",
       "      <td>not_recommended</td>\n",
       "    </tr>\n",
       "    <tr>\n",
       "      <th>2</th>\n",
       "      <td>120499</td>\n",
       "      <td>همه چیز در رابطه با ظاهر این گوشی بسیار خوب اس...</td>\n",
       "      <td>no_idea</td>\n",
       "    </tr>\n",
       "    <tr>\n",
       "      <th>3</th>\n",
       "      <td>67200</td>\n",
       "      <td>اگر ظرفیتش براتون کافیه حتما بخرید.\\r\\nیه شارژ...</td>\n",
       "      <td>no_idea</td>\n",
       "    </tr>\n",
       "    <tr>\n",
       "      <th>4</th>\n",
       "      <td>133722</td>\n",
       "      <td>سلام دوستان،،\\r\\nمنم مثه بعضی از دوستان قبل از...</td>\n",
       "      <td>recommended</td>\n",
       "    </tr>\n",
       "  </tbody>\n",
       "</table>\n",
       "</div>"
      ],
      "text/plain": [
       "   product_id                                            comment  \\\n",
       "0       90213  سلام، قبل اینکه نظرم رو بگم میخواستم به یک موض...   \n",
       "1       59473  گیره های فلزی خیلی سخت تا میشوند و لذا حوله را...   \n",
       "2      120499  همه چیز در رابطه با ظاهر این گوشی بسیار خوب اس...   \n",
       "3       67200  اگر ظرفیتش براتون کافیه حتما بخرید.\\r\\nیه شارژ...   \n",
       "4      133722  سلام دوستان،،\\r\\nمنم مثه بعضی از دوستان قبل از...   \n",
       "\n",
       "         recommend  \n",
       "0      recommended  \n",
       "1  not_recommended  \n",
       "2          no_idea  \n",
       "3          no_idea  \n",
       "4      recommended  "
      ]
     },
     "execution_count": 10,
     "metadata": {},
     "output_type": "execute_result"
    }
   ],
   "source": [
    "dataset.head()"
   ]
  },
  {
   "cell_type": "code",
   "execution_count": 11,
   "metadata": {},
   "outputs": [
    {
     "name": "stdout",
     "output_type": "stream",
     "text": [
      "<class 'pandas.core.frame.DataFrame'>\n",
      "RangeIndex: 63586 entries, 0 to 63585\n",
      "Data columns (total 3 columns):\n",
      " #   Column      Non-Null Count  Dtype \n",
      "---  ------      --------------  ----- \n",
      " 0   product_id  63586 non-null  int64 \n",
      " 1   comment     63586 non-null  object\n",
      " 2   recommend   63586 non-null  object\n",
      "dtypes: int64(1), object(2)\n",
      "memory usage: 1.5+ MB\n"
     ]
    }
   ],
   "source": [
    "dataset.info()"
   ]
  },
  {
   "cell_type": "code",
   "execution_count": 12,
   "metadata": {},
   "outputs": [
    {
     "name": "stdout",
     "output_type": "stream",
     "text": [
      "The original data frame shape:\t(63586, 3)\n",
      "The new data frame shape:\t(1176, 3)\n"
     ]
    }
   ],
   "source": [
    "min_product_counts = 50\n",
    "filter_products = dataset['product_id'].value_counts() > min_product_counts\n",
    "filter_products = filter_products[filter_products].index.tolist()\n",
    "\n",
    "print('The original data frame shape:\\t{}'.format(dataset.shape))\n",
    "dataset = dataset[dataset['product_id'].isin(filter_products)]\n",
    "print('The new data frame shape:\\t{}'.format(dataset.shape))"
   ]
  },
  {
   "cell_type": "code",
   "execution_count": 13,
   "metadata": {},
   "outputs": [],
   "source": [
    "dataset.reset_index(drop=True, inplace=True)"
   ]
  },
  {
   "cell_type": "code",
   "execution_count": 14,
   "metadata": {},
   "outputs": [
    {
     "name": "stdout",
     "output_type": "stream",
     "text": [
      "<class 'pandas.core.frame.DataFrame'>\n",
      "RangeIndex: 1176 entries, 0 to 1175\n",
      "Data columns (total 3 columns):\n",
      " #   Column      Non-Null Count  Dtype \n",
      "---  ------      --------------  ----- \n",
      " 0   product_id  1176 non-null   int64 \n",
      " 1   comment     1176 non-null   object\n",
      " 2   recommend   1176 non-null   object\n",
      "dtypes: int64(1), object(2)\n",
      "memory usage: 27.7+ KB\n"
     ]
    }
   ],
   "source": [
    "dataset.info()"
   ]
  },
  {
   "cell_type": "code",
   "execution_count": 16,
   "metadata": {},
   "outputs": [],
   "source": [
    "translates = []\n",
    "for comment in dataset['comment']:\n",
    "    translates.append(translate_fa_2_eng(comment))"
   ]
  },
  {
   "cell_type": "code",
   "execution_count": 17,
   "metadata": {},
   "outputs": [
    {
     "data": {
      "text/html": [
       "<div>\n",
       "<style scoped>\n",
       "    .dataframe tbody tr th:only-of-type {\n",
       "        vertical-align: middle;\n",
       "    }\n",
       "\n",
       "    .dataframe tbody tr th {\n",
       "        vertical-align: top;\n",
       "    }\n",
       "\n",
       "    .dataframe thead th {\n",
       "        text-align: right;\n",
       "    }\n",
       "</style>\n",
       "<table border=\"1\" class=\"dataframe\">\n",
       "  <thead>\n",
       "    <tr style=\"text-align: right;\">\n",
       "      <th></th>\n",
       "      <th>product_id</th>\n",
       "      <th>comment</th>\n",
       "      <th>recommend</th>\n",
       "      <th>eng_comment</th>\n",
       "    </tr>\n",
       "  </thead>\n",
       "  <tbody>\n",
       "    <tr>\n",
       "      <th>0</th>\n",
       "      <td>111178</td>\n",
       "      <td>در کل وسیله ای خوب و مورد نیاز است. اگر یک میل...</td>\n",
       "      <td>recommended</td>\n",
       "      <td>Overall a good and needed tool. If a flat bar ...</td>\n",
       "    </tr>\n",
       "    <tr>\n",
       "      <th>1</th>\n",
       "      <td>180451</td>\n",
       "      <td>تو خریدش شک نکنید،عالی و بسیار کاربردی</td>\n",
       "      <td>recommended</td>\n",
       "      <td>Do not hesitate to buy it, excellent and very ...</td>\n",
       "    </tr>\n",
       "    <tr>\n",
       "      <th>2</th>\n",
       "      <td>195191</td>\n",
       "      <td>فست شارژ داره که خیلی خوبه\\r\\nکیفیت بدنش عالیه...</td>\n",
       "      <td>recommended</td>\n",
       "      <td>It has a fast charge, which is very good  The ...</td>\n",
       "    </tr>\n",
       "    <tr>\n",
       "      <th>3</th>\n",
       "      <td>195191</td>\n",
       "      <td>بیش از ۲ سال پیش از دیجی خریدم  با وجود ناراضی...</td>\n",
       "      <td>recommended</td>\n",
       "      <td>I bought it from Digi more than 2 years ago, d...</td>\n",
       "    </tr>\n",
       "    <tr>\n",
       "      <th>4</th>\n",
       "      <td>180451</td>\n",
       "      <td>واقعا خیلی ازش راضی هستم\\r\\nبی نقص</td>\n",
       "      <td>recommended</td>\n",
       "      <td>I am really very satisfied with it  flawless</td>\n",
       "    </tr>\n",
       "    <tr>\n",
       "      <th>...</th>\n",
       "      <td>...</td>\n",
       "      <td>...</td>\n",
       "      <td>...</td>\n",
       "      <td>...</td>\n",
       "    </tr>\n",
       "    <tr>\n",
       "      <th>1171</th>\n",
       "      <td>416458</td>\n",
       "      <td>در کل خوبه.</td>\n",
       "      <td>recommended</td>\n",
       "      <td>Overall good.</td>\n",
       "    </tr>\n",
       "    <tr>\n",
       "      <th>1172</th>\n",
       "      <td>416458</td>\n",
       "      <td>قسمت توری دارش باید لب توری کش داشته باشه که ش...</td>\n",
       "      <td>no_idea</td>\n",
       "      <td>The lace part should have a lace edge that hol...</td>\n",
       "    </tr>\n",
       "    <tr>\n",
       "      <th>1173</th>\n",
       "      <td>319878</td>\n",
       "      <td>نسبت به قیمتش خوش ساخت و با کیفیت هست. نسبت به...</td>\n",
       "      <td>recommended</td>\n",
       "      <td>It is well made and of good quality for its pr...</td>\n",
       "    </tr>\n",
       "    <tr>\n",
       "      <th>1174</th>\n",
       "      <td>416458</td>\n",
       "      <td>عالی من یک دو هفته ای میشه خریدم پیشنهاد میکنم...</td>\n",
       "      <td>recommended</td>\n",
       "      <td>Excellent, I can buy it in a couple of weeks, ...</td>\n",
       "    </tr>\n",
       "    <tr>\n",
       "      <th>1175</th>\n",
       "      <td>390726</td>\n",
       "      <td>من تازه سفارش دادم ببنم چی میشه</td>\n",
       "      <td>no_idea</td>\n",
       "      <td>I just ordered to see what happens</td>\n",
       "    </tr>\n",
       "  </tbody>\n",
       "</table>\n",
       "<p>1176 rows × 4 columns</p>\n",
       "</div>"
      ],
      "text/plain": [
       "      product_id                                            comment  \\\n",
       "0         111178  در کل وسیله ای خوب و مورد نیاز است. اگر یک میل...   \n",
       "1         180451             تو خریدش شک نکنید،عالی و بسیار کاربردی   \n",
       "2         195191  فست شارژ داره که خیلی خوبه\\r\\nکیفیت بدنش عالیه...   \n",
       "3         195191  بیش از ۲ سال پیش از دیجی خریدم  با وجود ناراضی...   \n",
       "4         180451                 واقعا خیلی ازش راضی هستم\\r\\nبی نقص   \n",
       "...          ...                                                ...   \n",
       "1171      416458                                        در کل خوبه.   \n",
       "1172      416458  قسمت توری دارش باید لب توری کش داشته باشه که ش...   \n",
       "1173      319878  نسبت به قیمتش خوش ساخت و با کیفیت هست. نسبت به...   \n",
       "1174      416458  عالی من یک دو هفته ای میشه خریدم پیشنهاد میکنم...   \n",
       "1175      390726                    من تازه سفارش دادم ببنم چی میشه   \n",
       "\n",
       "        recommend                                        eng_comment  \n",
       "0     recommended  Overall a good and needed tool. If a flat bar ...  \n",
       "1     recommended  Do not hesitate to buy it, excellent and very ...  \n",
       "2     recommended  It has a fast charge, which is very good  The ...  \n",
       "3     recommended  I bought it from Digi more than 2 years ago, d...  \n",
       "4     recommended      I am really very satisfied with it  flawless   \n",
       "...           ...                                                ...  \n",
       "1171  recommended                                     Overall good.   \n",
       "1172      no_idea  The lace part should have a lace edge that hol...  \n",
       "1173  recommended  It is well made and of good quality for its pr...  \n",
       "1174  recommended  Excellent, I can buy it in a couple of weeks, ...  \n",
       "1175      no_idea                I just ordered to see what happens   \n",
       "\n",
       "[1176 rows x 4 columns]"
      ]
     },
     "execution_count": 17,
     "metadata": {},
     "output_type": "execute_result"
    }
   ],
   "source": [
    "dataset['eng_comment'] = translates\n",
    "dataset"
   ]
  },
  {
   "cell_type": "code",
   "execution_count": 19,
   "metadata": {},
   "outputs": [],
   "source": [
    "dataset.to_csv('translate_dataset.csv', index=False, encoding='utf-8-sig')"
   ]
  }
 ],
 "metadata": {
  "kernelspec": {
   "display_name": "Python 3",
   "language": "python",
   "name": "python3"
  },
  "language_info": {
   "codemirror_mode": {
    "name": "ipython",
    "version": 3
   },
   "file_extension": ".py",
   "mimetype": "text/x-python",
   "name": "python",
   "nbconvert_exporter": "python",
   "pygments_lexer": "ipython3",
   "version": "3.8.6"
  }
 },
 "nbformat": 4,
 "nbformat_minor": 4
}
