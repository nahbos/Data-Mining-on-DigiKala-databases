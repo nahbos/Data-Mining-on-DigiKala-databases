{
 "cells": [
  {
   "cell_type": "markdown",
   "metadata": {},
   "source": [
    "## Data Mining UniProj - no.1 \n",
    "#### Sobhan Moradiyan Daghigh & Fatemeh Chaji\n",
    "##### 11/16/2020"
   ]
  },
  {
   "cell_type": "code",
   "execution_count": 1,
   "metadata": {},
   "outputs": [],
   "source": [
    "import pandas as pd\n",
    "import numpy as np\n",
    "import matplotlib.pyplot as plt"
   ]
  },
  {
   "cell_type": "markdown",
   "metadata": {},
   "source": [
    "### Reading the data tables"
   ]
  },
  {
   "cell_type": "code",
   "execution_count": null,
   "metadata": {},
   "outputs": [],
   "source": [
    "product = pd.read_excel(r\"./dataset/product.xlsx\")\n",
    "order_data = pd.read_csv(r\"./dataset/tarikhche kharid.csv\")\n",
    "comments = pd.read_excel(r\"./dataset/comment.xlsx\")\n",
    "orders = pd.read_csv(r\"./dataset/orders.csv\")\n",
    "quality = pd.read_excel(r\"./dataset/keifiat.xlsx\")"
   ]
  },
  {
   "cell_type": "markdown",
   "metadata": {},
   "source": [
    "#### خُب! در این سوال میخوایم معتبر بودن داده ها را بررسی کنیم "
   ]
  },
  {
   "cell_type": "raw",
   "metadata": {},
   "source": [
    "برای این منظور تک به تک ویژگی ها هر جدول را بررسی میکنیم"
   ]
  },
  {
   "cell_type": "raw",
   "metadata": {},
   "source": [
    "در جدول \"محصولات\" همانطور که مشخص است، ویژگی \"نام انگلیسی محصول\" در خیلی از رکورد ها بدون مقدار است. البته اختمالا این به خاطر این است که در هنگام ثبت هر رکورد، نام انگلیسی محصول جزو مقادیر ضروری برای وارد کردن نبوده است؛ پس نمیتوان به عنوان مقادیر نامعتبر شناسایی شوند."
   ]
  },
  {
   "cell_type": "code",
   "execution_count": null,
   "metadata": {},
   "outputs": [],
   "source": []
  }
 ],
 "metadata": {
  "kernelspec": {
   "display_name": "Python 3",
   "language": "python",
   "name": "python3"
  },
  "language_info": {
   "codemirror_mode": {
    "name": "ipython",
    "version": 3
   },
   "file_extension": ".py",
   "mimetype": "text/x-python",
   "name": "python",
   "nbconvert_exporter": "python",
   "pygments_lexer": "ipython3",
   "version": "3.6.8"
  }
 },
 "nbformat": 4,
 "nbformat_minor": 4
}
