{
 "cells": [
  {
   "cell_type": "markdown",
   "metadata": {},
   "source": [
    "## Data Mining UniProj - no.1 \n",
    "#### Sobhan Moradiyan Daghigh & Fatemeh Chaji\n",
    "##### 11/25/2020"
   ]
  },
  {
   "cell_type": "code",
   "execution_count": 1,
   "metadata": {},
   "outputs": [],
   "source": [
    "# !pip install import_ipynb"
   ]
  },
  {
   "cell_type": "code",
   "execution_count": 2,
   "metadata": {},
   "outputs": [
    {
     "name": "stdout",
     "output_type": "stream",
     "text": [
      "importing Jupyter notebook from FarsiToEngConverte.ipynb\n"
     ]
    }
   ],
   "source": [
    "import pandas as pd\n",
    "import numpy as np\n",
    "import import_ipynb\n",
    "from FarsiToEngConverte import convert_en_characters"
   ]
  },
  {
   "cell_type": "markdown",
   "metadata": {},
   "source": [
    "### Reading the databases"
   ]
  },
  {
   "cell_type": "code",
   "execution_count": 3,
   "metadata": {},
   "outputs": [],
   "source": [
    "product = pd.read_excel(r\"./dataset/product.xlsx\")\n",
    "# order_date = pd.read_csv(r\"./dataset/tarikhche kharid.csv\")\n",
    "# comments = pd.read_excel(r\"./dataset/comment.xlsx\")\n",
    "# orders = pd.read_csv(r\"./dataset/orders.csv\")\n",
    "# quality = pd.read_excel(r\"./dataset/keifiat.xlsx\")"
   ]
  },
  {
   "cell_type": "markdown",
   "metadata": {},
   "source": [
    "### Define som functions in order to handle missed values "
   ]
  },
  {
   "cell_type": "markdown",
   "metadata": {},
   "source": [
    "#### We wrote \"FarsiToEngConverte\" file which convert Farsi chars to English"
   ]
  },
  {
   "cell_type": "markdown",
   "metadata": {},
   "source": [
    " ##### Look how beautiful it is ;)"
   ]
  },
  {
   "cell_type": "code",
   "execution_count": 4,
   "metadata": {},
   "outputs": [
    {
     "data": {
      "text/plain": [
       "'goshi mobail samsong J7Pro'"
      ]
     },
     "execution_count": 4,
     "metadata": {},
     "output_type": "execute_result"
    }
   ],
   "source": [
    "convert_en_characters(\"گوشی موبایل سامسونگ J7Pro\")"
   ]
  },
  {
   "cell_type": "markdown",
   "metadata": {},
   "source": [
    "### Ok now, we wanna fill in the missing values"
   ]
  },
  {
   "cell_type": "markdown",
   "metadata": {},
   "source": [
    "#### 1- Product database"
   ]
  },
  {
   "cell_type": "code",
   "execution_count": 5,
   "metadata": {},
   "outputs": [
    {
     "data": {
      "text/html": [
       "<div>\n",
       "<style scoped>\n",
       "    .dataframe tbody tr th:only-of-type {\n",
       "        vertical-align: middle;\n",
       "    }\n",
       "\n",
       "    .dataframe tbody tr th {\n",
       "        vertical-align: top;\n",
       "    }\n",
       "\n",
       "    .dataframe thead th {\n",
       "        text-align: right;\n",
       "    }\n",
       "</style>\n",
       "<table border=\"1\" class=\"dataframe\">\n",
       "  <thead>\n",
       "    <tr style=\"text-align: right;\">\n",
       "      <th></th>\n",
       "      <th>id</th>\n",
       "      <th>product_title_fa</th>\n",
       "      <th>product_title_en</th>\n",
       "      <th>url_code</th>\n",
       "      <th>title_alt</th>\n",
       "      <th>category_title_fa</th>\n",
       "      <th>category_keywords</th>\n",
       "      <th>brand_name_fa</th>\n",
       "      <th>brand_name_en</th>\n",
       "      <th>product_attributes</th>\n",
       "    </tr>\n",
       "  </thead>\n",
       "  <tbody>\n",
       "    <tr>\n",
       "      <th>0</th>\n",
       "      <td>723302</td>\n",
       "      <td>ماگ حرارتی لومانا مدل عرفانه کد MAG1042</td>\n",
       "      <td>NaN</td>\n",
       "      <td>ماگ-حرارتی-لومانا-مدل-عرفانه-کد-mag1042</td>\n",
       "      <td>mug، لیوان ، ماگ ، فنجان ، لیوان دسته دار ، لو...</td>\n",
       "      <td>ماگ، لیوان و فنجان</td>\n",
       "      <td>ماگ، لیوان و فنجان CupandMug</td>\n",
       "      <td>لومانا</td>\n",
       "      <td>Lomana</td>\n",
       "      <td>[{\"Key\":\"وزن بسته‌بندی\",\"Value\":\"480\"},{\"Key\":...</td>\n",
       "    </tr>\n",
       "    <tr>\n",
       "      <th>1</th>\n",
       "      <td>727089</td>\n",
       "      <td>ست آبکش و آبگیر تیتیز مدل AP-9141 سایز متوسط</td>\n",
       "      <td>NaN</td>\n",
       "      <td>ست-آبکش-و-آبگیر-تیتیز-مدل-ap-9141-سایز-متوسط</td>\n",
       "      <td>;hsi, steel, کاسه، کاسه بامبو، لگن، کالا خانه ...</td>\n",
       "      <td>آبکش و آبگیر</td>\n",
       "      <td>آبکش و آبگیر VirgoBasin</td>\n",
       "      <td>تیتیز</td>\n",
       "      <td>Titiz</td>\n",
       "      <td>[{\"Key\":\"دستگیره\",\"Value\":\"1 جفت\"},{\"Key\":\"نوع...</td>\n",
       "    </tr>\n",
       "    <tr>\n",
       "      <th>2</th>\n",
       "      <td>727096</td>\n",
       "      <td>روغن مرطوب کننده کدلی مدل Divine oil حجم 50 می...</td>\n",
       "      <td>NaN</td>\n",
       "      <td>روغن-مرطوب-کننده-کدلی-مدل-divine-oil-حجم-50-می...</td>\n",
       "      <td>NaN</td>\n",
       "      <td>روغن صورت</td>\n",
       "      <td>روغن صورت Face-Oil</td>\n",
       "      <td>کدلی</td>\n",
       "      <td>CAUDALIE</td>\n",
       "      <td>[{\"Key\":\"حجم\",\"Value\":\"50\"},{\"Key\":\"نوع عصاره\"...</td>\n",
       "    </tr>\n",
       "    <tr>\n",
       "      <th>3</th>\n",
       "      <td>727803</td>\n",
       "      <td>ست لحاف پوپلین هوبی مدل اما یکنفره چهار تکه کاوری</td>\n",
       "      <td>Hobby Emma Quilt Single Set - 4 Pieces</td>\n",
       "      <td>ست-لحاف-پوپلین-هوبی-مدل-اما-یکنفره-چهار-تکه-کاوری</td>\n",
       "      <td>روتختی اسپرت، اما، emma، روتختی یکنفره، لحاف ی...</td>\n",
       "      <td>سرویس خواب</td>\n",
       "      <td>سرویس خواب SleepSet</td>\n",
       "      <td>هوبی</td>\n",
       "      <td>Hobby</td>\n",
       "      <td>[{\"Key\":\"ابعاد رو بالشی\",\"Value\":\"50×70\"},{\"Ke...</td>\n",
       "    </tr>\n",
       "    <tr>\n",
       "      <th>4</th>\n",
       "      <td>725222</td>\n",
       "      <td>ماگ آبنبات رنگی مدل AR0143</td>\n",
       "      <td>NaN</td>\n",
       "      <td>ماگ-آبنبات-رنگی-مدل-ar0143</td>\n",
       "      <td>ماگ آبنبات رنگی،شذدشذشفقشدله،Mag Abnabatrangi</td>\n",
       "      <td>ماگ، لیوان و فنجان</td>\n",
       "      <td>ماگ، لیوان و فنجان CupandMug</td>\n",
       "      <td>متفرقه</td>\n",
       "      <td>Miscellaneous</td>\n",
       "      <td>[{\"Key\":\"در\",\"Value\":\"ندارد\"},{\"Key\":\"جنس\",\"Va...</td>\n",
       "    </tr>\n",
       "  </tbody>\n",
       "</table>\n",
       "</div>"
      ],
      "text/plain": [
       "       id                                   product_title_fa  \\\n",
       "0  723302            ماگ حرارتی لومانا مدل عرفانه کد MAG1042   \n",
       "1  727089       ست آبکش و آبگیر تیتیز مدل AP-9141 سایز متوسط   \n",
       "2  727096  روغن مرطوب کننده کدلی مدل Divine oil حجم 50 می...   \n",
       "3  727803  ست لحاف پوپلین هوبی مدل اما یکنفره چهار تکه کاوری   \n",
       "4  725222                         ماگ آبنبات رنگی مدل AR0143   \n",
       "\n",
       "                         product_title_en  \\\n",
       "0                                     NaN   \n",
       "1                                     NaN   \n",
       "2                                     NaN   \n",
       "3  Hobby Emma Quilt Single Set - 4 Pieces   \n",
       "4                                     NaN   \n",
       "\n",
       "                                            url_code  \\\n",
       "0            ماگ-حرارتی-لومانا-مدل-عرفانه-کد-mag1042   \n",
       "1       ست-آبکش-و-آبگیر-تیتیز-مدل-ap-9141-سایز-متوسط   \n",
       "2  روغن-مرطوب-کننده-کدلی-مدل-divine-oil-حجم-50-می...   \n",
       "3  ست-لحاف-پوپلین-هوبی-مدل-اما-یکنفره-چهار-تکه-کاوری   \n",
       "4                         ماگ-آبنبات-رنگی-مدل-ar0143   \n",
       "\n",
       "                                           title_alt   category_title_fa  \\\n",
       "0  mug، لیوان ، ماگ ، فنجان ، لیوان دسته دار ، لو...  ماگ، لیوان و فنجان   \n",
       "1  ;hsi, steel, کاسه، کاسه بامبو، لگن، کالا خانه ...        آبکش و آبگیر   \n",
       "2                                                NaN           روغن صورت   \n",
       "3  روتختی اسپرت، اما، emma، روتختی یکنفره، لحاف ی...          سرویس خواب   \n",
       "4      ماگ آبنبات رنگی،شذدشذشفقشدله،Mag Abnabatrangi  ماگ، لیوان و فنجان   \n",
       "\n",
       "              category_keywords brand_name_fa  brand_name_en  \\\n",
       "0  ماگ، لیوان و فنجان CupandMug        لومانا         Lomana   \n",
       "1       آبکش و آبگیر VirgoBasin         تیتیز          Titiz   \n",
       "2            روغن صورت Face-Oil          کدلی       CAUDALIE   \n",
       "3           سرویس خواب SleepSet          هوبی          Hobby   \n",
       "4  ماگ، لیوان و فنجان CupandMug        متفرقه  Miscellaneous   \n",
       "\n",
       "                                  product_attributes  \n",
       "0  [{\"Key\":\"وزن بسته‌بندی\",\"Value\":\"480\"},{\"Key\":...  \n",
       "1  [{\"Key\":\"دستگیره\",\"Value\":\"1 جفت\"},{\"Key\":\"نوع...  \n",
       "2  [{\"Key\":\"حجم\",\"Value\":\"50\"},{\"Key\":\"نوع عصاره\"...  \n",
       "3  [{\"Key\":\"ابعاد رو بالشی\",\"Value\":\"50×70\"},{\"Ke...  \n",
       "4  [{\"Key\":\"در\",\"Value\":\"ندارد\"},{\"Key\":\"جنس\",\"Va...  "
      ]
     },
     "execution_count": 5,
     "metadata": {},
     "output_type": "execute_result"
    }
   ],
   "source": [
    "product.head()"
   ]
  },
  {
   "cell_type": "code",
   "execution_count": 6,
   "metadata": {},
   "outputs": [
    {
     "data": {
      "text/plain": [
       "id                        0\n",
       "product_title_fa          0\n",
       "product_title_en      78835\n",
       "url_code                 17\n",
       "title_alt             22568\n",
       "category_title_fa         0\n",
       "category_keywords       260\n",
       "brand_name_fa             0\n",
       "brand_name_en             0\n",
       "product_attributes    96950\n",
       "dtype: int64"
      ]
     },
     "execution_count": 6,
     "metadata": {},
     "output_type": "execute_result"
    }
   ],
   "source": [
    "product.isnull().sum()"
   ]
  },
  {
   "cell_type": "code",
   "execution_count": 7,
   "metadata": {},
   "outputs": [],
   "source": [
    "def fill_in_missed_values(table, ref_col_no, goal_col_no):\n",
    "    product_manipulated = table\n",
    "    for i in range(table.shape[0]):\n",
    "        if str(table.loc[i, goal_col_no]) == \"nan\":\n",
    "            product_manipulated.loc[i, goal_col_no] = convert_en_characters(table.loc[i, ref_col_no])\n",
    "    return product_manipulated"
   ]
  },
  {
   "cell_type": "code",
   "execution_count": 8,
   "metadata": {},
   "outputs": [
    {
     "data": {
      "text/html": [
       "<div>\n",
       "<style scoped>\n",
       "    .dataframe tbody tr th:only-of-type {\n",
       "        vertical-align: middle;\n",
       "    }\n",
       "\n",
       "    .dataframe tbody tr th {\n",
       "        vertical-align: top;\n",
       "    }\n",
       "\n",
       "    .dataframe thead th {\n",
       "        text-align: right;\n",
       "    }\n",
       "</style>\n",
       "<table border=\"1\" class=\"dataframe\">\n",
       "  <thead>\n",
       "    <tr style=\"text-align: right;\">\n",
       "      <th></th>\n",
       "      <th>id</th>\n",
       "      <th>product_title_fa</th>\n",
       "      <th>product_title_en</th>\n",
       "      <th>url_code</th>\n",
       "      <th>title_alt</th>\n",
       "      <th>category_title_fa</th>\n",
       "      <th>category_keywords</th>\n",
       "      <th>brand_name_fa</th>\n",
       "      <th>brand_name_en</th>\n",
       "      <th>product_attributes</th>\n",
       "    </tr>\n",
       "  </thead>\n",
       "  <tbody>\n",
       "    <tr>\n",
       "      <th>0</th>\n",
       "      <td>723302</td>\n",
       "      <td>ماگ حرارتی لومانا مدل عرفانه کد MAG1042</td>\n",
       "      <td>mag hrarti lomana mdl arfanh kd MAG1042</td>\n",
       "      <td>ماگ-حرارتی-لومانا-مدل-عرفانه-کد-mag1042</td>\n",
       "      <td>mug، لیوان ، ماگ ، فنجان ، لیوان دسته دار ، لو...</td>\n",
       "      <td>ماگ، لیوان و فنجان</td>\n",
       "      <td>ماگ، لیوان و فنجان CupandMug</td>\n",
       "      <td>لومانا</td>\n",
       "      <td>Lomana</td>\n",
       "      <td>[{\"Key\":\"وزن بسته‌بندی\",\"Value\":\"480\"},{\"Key\":...</td>\n",
       "    </tr>\n",
       "    <tr>\n",
       "      <th>1</th>\n",
       "      <td>727089</td>\n",
       "      <td>ست آبکش و آبگیر تیتیز مدل AP-9141 سایز متوسط</td>\n",
       "      <td>st abksh o abgir titiz mdl AP-9141 saiz mtost</td>\n",
       "      <td>ست-آبکش-و-آبگیر-تیتیز-مدل-ap-9141-سایز-متوسط</td>\n",
       "      <td>;hsi, steel, کاسه، کاسه بامبو، لگن، کالا خانه ...</td>\n",
       "      <td>آبکش و آبگیر</td>\n",
       "      <td>آبکش و آبگیر VirgoBasin</td>\n",
       "      <td>تیتیز</td>\n",
       "      <td>Titiz</td>\n",
       "      <td>[{\"Key\":\"دستگیره\",\"Value\":\"1 جفت\"},{\"Key\":\"نوع...</td>\n",
       "    </tr>\n",
       "    <tr>\n",
       "      <th>2</th>\n",
       "      <td>727096</td>\n",
       "      <td>روغن مرطوب کننده کدلی مدل Divine oil حجم 50 می...</td>\n",
       "      <td>roghn mrtob knndh kdli mdl Divine oil hjm 50 m...</td>\n",
       "      <td>روغن-مرطوب-کننده-کدلی-مدل-divine-oil-حجم-50-می...</td>\n",
       "      <td>NaN</td>\n",
       "      <td>روغن صورت</td>\n",
       "      <td>روغن صورت Face-Oil</td>\n",
       "      <td>کدلی</td>\n",
       "      <td>CAUDALIE</td>\n",
       "      <td>[{\"Key\":\"حجم\",\"Value\":\"50\"},{\"Key\":\"نوع عصاره\"...</td>\n",
       "    </tr>\n",
       "    <tr>\n",
       "      <th>3</th>\n",
       "      <td>727803</td>\n",
       "      <td>ست لحاف پوپلین هوبی مدل اما یکنفره چهار تکه کاوری</td>\n",
       "      <td>Hobby Emma Quilt Single Set - 4 Pieces</td>\n",
       "      <td>ست-لحاف-پوپلین-هوبی-مدل-اما-یکنفره-چهار-تکه-کاوری</td>\n",
       "      <td>روتختی اسپرت، اما، emma، روتختی یکنفره، لحاف ی...</td>\n",
       "      <td>سرویس خواب</td>\n",
       "      <td>سرویس خواب SleepSet</td>\n",
       "      <td>هوبی</td>\n",
       "      <td>Hobby</td>\n",
       "      <td>[{\"Key\":\"ابعاد رو بالشی\",\"Value\":\"50×70\"},{\"Ke...</td>\n",
       "    </tr>\n",
       "    <tr>\n",
       "      <th>4</th>\n",
       "      <td>725222</td>\n",
       "      <td>ماگ آبنبات رنگی مدل AR0143</td>\n",
       "      <td>mag abnbat rngi mdl AR0143</td>\n",
       "      <td>ماگ-آبنبات-رنگی-مدل-ar0143</td>\n",
       "      <td>ماگ آبنبات رنگی،شذدشذشفقشدله،Mag Abnabatrangi</td>\n",
       "      <td>ماگ، لیوان و فنجان</td>\n",
       "      <td>ماگ، لیوان و فنجان CupandMug</td>\n",
       "      <td>متفرقه</td>\n",
       "      <td>Miscellaneous</td>\n",
       "      <td>[{\"Key\":\"در\",\"Value\":\"ندارد\"},{\"Key\":\"جنس\",\"Va...</td>\n",
       "    </tr>\n",
       "    <tr>\n",
       "      <th>...</th>\n",
       "      <td>...</td>\n",
       "      <td>...</td>\n",
       "      <td>...</td>\n",
       "      <td>...</td>\n",
       "      <td>...</td>\n",
       "      <td>...</td>\n",
       "      <td>...</td>\n",
       "      <td>...</td>\n",
       "      <td>...</td>\n",
       "      <td>...</td>\n",
       "    </tr>\n",
       "    <tr>\n",
       "      <th>99995</th>\n",
       "      <td>803375</td>\n",
       "      <td>سوتین زنانه طرح گل کد 262014527</td>\n",
       "      <td>sotin znanh trh gl kd 262014527</td>\n",
       "      <td>سوتین-زنانه-طرح-گل-کد-262014527</td>\n",
       "      <td>لباس زیر، کتان، سوتین، شورت و سوتین، توری، جک ...</td>\n",
       "      <td>سوتین</td>\n",
       "      <td>سوتین Women-UW-Bra</td>\n",
       "      <td>متفرقه</td>\n",
       "      <td>Miscellaneous</td>\n",
       "      <td>NaN</td>\n",
       "    </tr>\n",
       "    <tr>\n",
       "      <th>99996</th>\n",
       "      <td>790932</td>\n",
       "      <td>محافظ صفحه نمایش مدل نانو گلس مناسب برای گوشی ...</td>\n",
       "      <td>mhafz sfhh nmaish mdl nano gls mnasb brai gosh...</td>\n",
       "      <td>محافظ-صفحه-نمایش-مدل-نانو-گلس-مناسب-برای-گوشی-...</td>\n",
       "      <td>نانو گلس سامسونگ J7 Pro  ، محافظ صفحه نمایش ،ن...</td>\n",
       "      <td>محافظ صفحه نمایش گوشی</td>\n",
       "      <td>محافظ صفحه نمایش گوشی Cell-Phone-Screen-Guard</td>\n",
       "      <td>متفرقه</td>\n",
       "      <td>Miscellaneous</td>\n",
       "      <td>NaN</td>\n",
       "    </tr>\n",
       "    <tr>\n",
       "      <th>99997</th>\n",
       "      <td>786604</td>\n",
       "      <td>تابلو نوشته تکس پیک مدل A63</td>\n",
       "      <td>tablo noshth tks pik mdl A63</td>\n",
       "      <td>تابلو-نوشته-تکس-پیک-مدل-a63</td>\n",
       "      <td>عکس نوشته,تابلونوشته,تکستگرافی,تابلوعکس,تابلو ...</td>\n",
       "      <td>تابلو شاسی</td>\n",
       "      <td>تابلو شاسی Chassis</td>\n",
       "      <td>متفرقه</td>\n",
       "      <td>Miscellaneous</td>\n",
       "      <td>NaN</td>\n",
       "    </tr>\n",
       "    <tr>\n",
       "      <th>99998</th>\n",
       "      <td>799047</td>\n",
       "      <td>سینی  برایتون مدل BT-8387</td>\n",
       "      <td>sini  braiton mdl BT-8387</td>\n",
       "      <td>سینی-برایتون-مدل-bt-8387</td>\n",
       "      <td>سینی، سینی چای،  sdkd ]hd</td>\n",
       "      <td>سینی</td>\n",
       "      <td>سینی Tray</td>\n",
       "      <td>برایتون</td>\n",
       "      <td>briton</td>\n",
       "      <td>NaN</td>\n",
       "    </tr>\n",
       "    <tr>\n",
       "      <th>99999</th>\n",
       "      <td>782276</td>\n",
       "      <td>تیشرت زنانه تارپون طرح فانتزی کد 10532</td>\n",
       "      <td>tishrt znanh tarpon trh fantzi kd 10532</td>\n",
       "      <td>تیشرت-زنانه-تارپون-طرح-فانتزی-کد-10532</td>\n",
       "      <td>تیشرت، تیشرت آستین کوتاه، تیشرت تارپون، تیشرت ...</td>\n",
       "      <td>تی‌شرت و پولوشرت زنانه</td>\n",
       "      <td>تی‌شرت و پولوشرت زنانه womens-tshirts-polos</td>\n",
       "      <td>تارپون</td>\n",
       "      <td>tarpon</td>\n",
       "      <td>NaN</td>\n",
       "    </tr>\n",
       "  </tbody>\n",
       "</table>\n",
       "<p>100000 rows × 10 columns</p>\n",
       "</div>"
      ],
      "text/plain": [
       "           id                                   product_title_fa  \\\n",
       "0      723302            ماگ حرارتی لومانا مدل عرفانه کد MAG1042   \n",
       "1      727089       ست آبکش و آبگیر تیتیز مدل AP-9141 سایز متوسط   \n",
       "2      727096  روغن مرطوب کننده کدلی مدل Divine oil حجم 50 می...   \n",
       "3      727803  ست لحاف پوپلین هوبی مدل اما یکنفره چهار تکه کاوری   \n",
       "4      725222                         ماگ آبنبات رنگی مدل AR0143   \n",
       "...       ...                                                ...   \n",
       "99995  803375                    سوتین زنانه طرح گل کد 262014527   \n",
       "99996  790932  محافظ صفحه نمایش مدل نانو گلس مناسب برای گوشی ...   \n",
       "99997  786604                        تابلو نوشته تکس پیک مدل A63   \n",
       "99998  799047                          سینی  برایتون مدل BT-8387   \n",
       "99999  782276             تیشرت زنانه تارپون طرح فانتزی کد 10532   \n",
       "\n",
       "                                        product_title_en  \\\n",
       "0                mag hrarti lomana mdl arfanh kd MAG1042   \n",
       "1          st abksh o abgir titiz mdl AP-9141 saiz mtost   \n",
       "2      roghn mrtob knndh kdli mdl Divine oil hjm 50 m...   \n",
       "3                 Hobby Emma Quilt Single Set - 4 Pieces   \n",
       "4                             mag abnbat rngi mdl AR0143   \n",
       "...                                                  ...   \n",
       "99995                    sotin znanh trh gl kd 262014527   \n",
       "99996  mhafz sfhh nmaish mdl nano gls mnasb brai gosh...   \n",
       "99997                       tablo noshth tks pik mdl A63   \n",
       "99998                          sini  braiton mdl BT-8387   \n",
       "99999            tishrt znanh tarpon trh fantzi kd 10532   \n",
       "\n",
       "                                                url_code  \\\n",
       "0                ماگ-حرارتی-لومانا-مدل-عرفانه-کد-mag1042   \n",
       "1           ست-آبکش-و-آبگیر-تیتیز-مدل-ap-9141-سایز-متوسط   \n",
       "2      روغن-مرطوب-کننده-کدلی-مدل-divine-oil-حجم-50-می...   \n",
       "3      ست-لحاف-پوپلین-هوبی-مدل-اما-یکنفره-چهار-تکه-کاوری   \n",
       "4                             ماگ-آبنبات-رنگی-مدل-ar0143   \n",
       "...                                                  ...   \n",
       "99995                    سوتین-زنانه-طرح-گل-کد-262014527   \n",
       "99996  محافظ-صفحه-نمایش-مدل-نانو-گلس-مناسب-برای-گوشی-...   \n",
       "99997                        تابلو-نوشته-تکس-پیک-مدل-a63   \n",
       "99998                           سینی-برایتون-مدل-bt-8387   \n",
       "99999             تیشرت-زنانه-تارپون-طرح-فانتزی-کد-10532   \n",
       "\n",
       "                                               title_alt  \\\n",
       "0      mug، لیوان ، ماگ ، فنجان ، لیوان دسته دار ، لو...   \n",
       "1      ;hsi, steel, کاسه، کاسه بامبو، لگن، کالا خانه ...   \n",
       "2                                                    NaN   \n",
       "3      روتختی اسپرت، اما، emma، روتختی یکنفره، لحاف ی...   \n",
       "4          ماگ آبنبات رنگی،شذدشذشفقشدله،Mag Abnabatrangi   \n",
       "...                                                  ...   \n",
       "99995  لباس زیر، کتان، سوتین، شورت و سوتین، توری، جک ...   \n",
       "99996  نانو گلس سامسونگ J7 Pro  ، محافظ صفحه نمایش ،ن...   \n",
       "99997  عکس نوشته,تابلونوشته,تکستگرافی,تابلوعکس,تابلو ...   \n",
       "99998                          سینی، سینی چای،  sdkd ]hd   \n",
       "99999  تیشرت، تیشرت آستین کوتاه، تیشرت تارپون، تیشرت ...   \n",
       "\n",
       "            category_title_fa                              category_keywords  \\\n",
       "0          ماگ، لیوان و فنجان                   ماگ، لیوان و فنجان CupandMug   \n",
       "1                آبکش و آبگیر                        آبکش و آبگیر VirgoBasin   \n",
       "2                   روغن صورت                             روغن صورت Face-Oil   \n",
       "3                  سرویس خواب                            سرویس خواب SleepSet   \n",
       "4          ماگ، لیوان و فنجان                   ماگ، لیوان و فنجان CupandMug   \n",
       "...                       ...                                            ...   \n",
       "99995                   سوتین                             سوتین Women-UW-Bra   \n",
       "99996   محافظ صفحه نمایش گوشی  محافظ صفحه نمایش گوشی Cell-Phone-Screen-Guard   \n",
       "99997              تابلو شاسی                             تابلو شاسی Chassis   \n",
       "99998                    سینی                                      سینی Tray   \n",
       "99999  تی‌شرت و پولوشرت زنانه    تی‌شرت و پولوشرت زنانه womens-tshirts-polos   \n",
       "\n",
       "      brand_name_fa  brand_name_en  \\\n",
       "0            لومانا         Lomana   \n",
       "1             تیتیز          Titiz   \n",
       "2              کدلی       CAUDALIE   \n",
       "3              هوبی          Hobby   \n",
       "4            متفرقه  Miscellaneous   \n",
       "...             ...            ...   \n",
       "99995        متفرقه  Miscellaneous   \n",
       "99996        متفرقه  Miscellaneous   \n",
       "99997        متفرقه  Miscellaneous   \n",
       "99998       برایتون         briton   \n",
       "99999        تارپون         tarpon   \n",
       "\n",
       "                                      product_attributes  \n",
       "0      [{\"Key\":\"وزن بسته‌بندی\",\"Value\":\"480\"},{\"Key\":...  \n",
       "1      [{\"Key\":\"دستگیره\",\"Value\":\"1 جفت\"},{\"Key\":\"نوع...  \n",
       "2      [{\"Key\":\"حجم\",\"Value\":\"50\"},{\"Key\":\"نوع عصاره\"...  \n",
       "3      [{\"Key\":\"ابعاد رو بالشی\",\"Value\":\"50×70\"},{\"Ke...  \n",
       "4      [{\"Key\":\"در\",\"Value\":\"ندارد\"},{\"Key\":\"جنس\",\"Va...  \n",
       "...                                                  ...  \n",
       "99995                                                NaN  \n",
       "99996                                                NaN  \n",
       "99997                                                NaN  \n",
       "99998                                                NaN  \n",
       "99999                                                NaN  \n",
       "\n",
       "[100000 rows x 10 columns]"
      ]
     },
     "execution_count": 8,
     "metadata": {},
     "output_type": "execute_result"
    }
   ],
   "source": [
    "product_manipulated = fill_in_missed_values(product, \"product_title_fa\", \"product_title_en\")\n",
    "product_manipulated"
   ]
  },
  {
   "cell_type": "code",
   "execution_count": 9,
   "metadata": {},
   "outputs": [
    {
     "data": {
      "text/plain": [
       "id                        0\n",
       "product_title_fa          0\n",
       "product_title_en          0\n",
       "url_code                 17\n",
       "title_alt             22568\n",
       "category_title_fa         0\n",
       "category_keywords       260\n",
       "brand_name_fa             0\n",
       "brand_name_en             0\n",
       "product_attributes    96950\n",
       "dtype: int64"
      ]
     },
     "execution_count": 9,
     "metadata": {},
     "output_type": "execute_result"
    }
   ],
   "source": [
    "product_manipulated.isnull().sum()"
   ]
  },
  {
   "cell_type": "code",
   "execution_count": null,
   "metadata": {},
   "outputs": [],
   "source": []
  },
  {
   "cell_type": "markdown",
   "metadata": {},
   "source": [
    "#### Congratulation :)\n",
    "#### We fill in the missing datas in th \"product_title_en\" column for Product database with accepting a low percentage of errors while converting the characers"
   ]
  },
  {
   "cell_type": "markdown",
   "metadata": {},
   "source": [
    "#### But unfortunately theres a large amount of missing data in column \"product_attributes\" which we cant do sth for them .."
   ]
  },
  {
   "attachments": {},
   "cell_type": "markdown",
   "metadata": {},
   "source": [
    "### So we decide to measure the amount of completeness using 3rd strategy: \n",
    "#### A: attribute fields containing values\n",
    "#### B: records × attributes"
   ]
  },
  {
   "cell_type": "code",
   "execution_count": 13,
   "metadata": {},
   "outputs": [
    {
     "data": {
      "text/plain": [
       "119795"
      ]
     },
     "execution_count": 13,
     "metadata": {},
     "output_type": "execute_result"
    }
   ],
   "source": [
    "# all_records    = product.shape[0]\n",
    "# all_columns    = product.shape[1]\n",
    "# missed_values_before_fill_in = product.isnull().sum().sum()\n",
    "missed_values_after_fill_in  = product_manipulated.isnull().sum().sum()\n",
    "missed_values_after_fill_in\n",
    "# print(\"For Product database:   columns: %d   records: %d   missed_values_before_fill_in: %d   missed_values_after_fill_in: %d \\n So the percentage of completeness is: %f\"\n",
    "#       %(all_columns, all_records, missed_values_before_fill_in, missed_values_after_fill_in, np.divide(missed_records, np.multiply(all_columns, all_records))))"
   ]
  },
  {
   "cell_type": "code",
   "execution_count": null,
   "metadata": {},
   "outputs": [],
   "source": []
  },
  {
   "cell_type": "code",
   "execution_count": null,
   "metadata": {},
   "outputs": [],
   "source": []
  }
 ],
 "metadata": {
  "kernelspec": {
   "display_name": "Python 3",
   "language": "python",
   "name": "python3"
  },
  "language_info": {
   "codemirror_mode": {
    "name": "ipython",
    "version": 3
   },
   "file_extension": ".py",
   "mimetype": "text/x-python",
   "name": "python",
   "nbconvert_exporter": "python",
   "pygments_lexer": "ipython3",
   "version": "3.6.8"
  }
 },
 "nbformat": 4,
 "nbformat_minor": 4
}
