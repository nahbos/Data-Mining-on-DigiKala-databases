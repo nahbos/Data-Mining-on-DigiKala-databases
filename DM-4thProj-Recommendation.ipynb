{
 "cells": [
  {
   "cell_type": "markdown",
   "metadata": {},
   "source": [
    "### Copyright (C) 2020 Sobhan Moradiyan Daghigh - All Rights Reserved\n",
    "\n",
    "## Data Mining UniProj - no.4\n",
    "#### 1/6/2021"
   ]
  },
  {
   "cell_type": "code",
   "execution_count": 1,
   "metadata": {},
   "outputs": [],
   "source": [
    "import pandas as pd\n",
    "import numpy as np\n",
    "from sklearn.cluster import KMeans\n",
    "from sklearn.feature_extraction.text import TfidfVectorizer\n",
    "import nltk\n",
    "from nltk import word_tokenize\n",
    "from nltk.corpus import stopwords\n",
    "from nltk.stem.porter import PorterStemmer\n",
    "import string\n",
    "# nltk.download()"
   ]
  },
  {
   "cell_type": "markdown",
   "metadata": {},
   "source": [
    "### Reading the dataset"
   ]
  },
  {
   "cell_type": "code",
   "execution_count": 2,
   "metadata": {},
   "outputs": [],
   "source": [
    "quality = pd.read_excel('dataset/keifiat.xlsx')"
   ]
  },
  {
   "cell_type": "code",
   "execution_count": 3,
   "metadata": {},
   "outputs": [
    {
     "data": {
      "text/plain": [
       "(36382, 63618)"
      ]
     },
     "execution_count": 3,
     "metadata": {},
     "output_type": "execute_result"
    }
   ],
   "source": [
    "len(quality['recommend'][quality['recommend'] == '\\\\N']), len(quality['recommend'][quality['recommend'] != '\\\\N']), "
   ]
  },
  {
   "cell_type": "code",
   "execution_count": 4,
   "metadata": {},
   "outputs": [
    {
     "data": {
      "text/html": [
       "<div>\n",
       "<style scoped>\n",
       "    .dataframe tbody tr th:only-of-type {\n",
       "        vertical-align: middle;\n",
       "    }\n",
       "\n",
       "    .dataframe tbody tr th {\n",
       "        vertical-align: top;\n",
       "    }\n",
       "\n",
       "    .dataframe thead th {\n",
       "        text-align: right;\n",
       "    }\n",
       "</style>\n",
       "<table border=\"1\" class=\"dataframe\">\n",
       "  <thead>\n",
       "    <tr style=\"text-align: right;\">\n",
       "      <th></th>\n",
       "      <th>product_id</th>\n",
       "      <th>comment</th>\n",
       "      <th>recommend</th>\n",
       "    </tr>\n",
       "  </thead>\n",
       "  <tbody>\n",
       "    <tr>\n",
       "      <th>0</th>\n",
       "      <td>3692</td>\n",
       "      <td>واقعا عالیه. من که ازش خیلی راضیم</td>\n",
       "      <td>\\N</td>\n",
       "    </tr>\n",
       "    <tr>\n",
       "      <th>1</th>\n",
       "      <td>90213</td>\n",
       "      <td>سلام، قبل اینکه نظرم رو بگم میخواستم به یک موض...</td>\n",
       "      <td>recommended</td>\n",
       "    </tr>\n",
       "    <tr>\n",
       "      <th>2</th>\n",
       "      <td>59473</td>\n",
       "      <td>گیره های فلزی خیلی سخت تا میشوند و لذا حوله را...</td>\n",
       "      <td>not_recommended</td>\n",
       "    </tr>\n",
       "    <tr>\n",
       "      <th>3</th>\n",
       "      <td>120499</td>\n",
       "      <td>همه چیز در رابطه با ظاهر این گوشی بسیار خوب اس...</td>\n",
       "      <td>no_idea</td>\n",
       "    </tr>\n",
       "    <tr>\n",
       "      <th>4</th>\n",
       "      <td>67200</td>\n",
       "      <td>اگر ظرفیتش براتون کافیه حتما بخرید.\\r\\nیه شارژ...</td>\n",
       "      <td>no_idea</td>\n",
       "    </tr>\n",
       "  </tbody>\n",
       "</table>\n",
       "</div>"
      ],
      "text/plain": [
       "   product_id                                            comment  \\\n",
       "0        3692                  واقعا عالیه. من که ازش خیلی راضیم   \n",
       "1       90213  سلام، قبل اینکه نظرم رو بگم میخواستم به یک موض...   \n",
       "2       59473  گیره های فلزی خیلی سخت تا میشوند و لذا حوله را...   \n",
       "3      120499  همه چیز در رابطه با ظاهر این گوشی بسیار خوب اس...   \n",
       "4       67200  اگر ظرفیتش براتون کافیه حتما بخرید.\\r\\nیه شارژ...   \n",
       "\n",
       "         recommend  \n",
       "0               \\N  \n",
       "1      recommended  \n",
       "2  not_recommended  \n",
       "3          no_idea  \n",
       "4          no_idea  "
      ]
     },
     "execution_count": 4,
     "metadata": {},
     "output_type": "execute_result"
    }
   ],
   "source": [
    "dataset = quality.filter(['product_id', 'comment', 'recommend']).copy()\n",
    "dataset.head()"
   ]
  },
  {
   "cell_type": "code",
   "execution_count": 5,
   "metadata": {},
   "outputs": [
    {
     "name": "stdout",
     "output_type": "stream",
     "text": [
      "<class 'pandas.core.frame.DataFrame'>\n",
      "RangeIndex: 100000 entries, 0 to 99999\n",
      "Data columns (total 3 columns):\n",
      " #   Column      Non-Null Count   Dtype \n",
      "---  ------      --------------   ----- \n",
      " 0   product_id  100000 non-null  int64 \n",
      " 1   comment     99883 non-null   object\n",
      " 2   recommend   100000 non-null  object\n",
      "dtypes: int64(1), object(2)\n",
      "memory usage: 2.3+ MB\n"
     ]
    }
   ],
   "source": [
    "dataset.info()"
   ]
  },
  {
   "cell_type": "code",
   "execution_count": 6,
   "metadata": {},
   "outputs": [
    {
     "name": "stdout",
     "output_type": "stream",
     "text": [
      "<class 'pandas.core.frame.DataFrame'>\n",
      "Int64Index: 63618 entries, 1 to 99999\n",
      "Data columns (total 3 columns):\n",
      " #   Column      Non-Null Count  Dtype \n",
      "---  ------      --------------  ----- \n",
      " 0   product_id  63618 non-null  int64 \n",
      " 1   comment     63586 non-null  object\n",
      " 2   recommend   63618 non-null  object\n",
      "dtypes: int64(1), object(2)\n",
      "memory usage: 1.9+ MB\n"
     ]
    }
   ],
   "source": [
    "dataset = dataset[dataset['recommend'] != '\\\\N']\n",
    "dataset.info()"
   ]
  },
  {
   "cell_type": "code",
   "execution_count": 7,
   "metadata": {},
   "outputs": [
    {
     "name": "stdout",
     "output_type": "stream",
     "text": [
      "<class 'pandas.core.frame.DataFrame'>\n",
      "Int64Index: 63586 entries, 1 to 99999\n",
      "Data columns (total 3 columns):\n",
      " #   Column      Non-Null Count  Dtype \n",
      "---  ------      --------------  ----- \n",
      " 0   product_id  63586 non-null  int64 \n",
      " 1   comment     63586 non-null  object\n",
      " 2   recommend   63586 non-null  object\n",
      "dtypes: int64(1), object(2)\n",
      "memory usage: 1.9+ MB\n"
     ]
    }
   ],
   "source": [
    "dataset.dropna(inplace=True)\n",
    "dataset.info()"
   ]
  },
  {
   "cell_type": "code",
   "execution_count": 8,
   "metadata": {},
   "outputs": [],
   "source": [
    "dataset.to_csv('preprocessed_dataset.csv', index=False, encoding='utf-8-sig')"
   ]
  },
  {
   "cell_type": "code",
   "execution_count": 20,
   "metadata": {},
   "outputs": [
    {
     "data": {
      "text/html": [
       "<div>\n",
       "<style scoped>\n",
       "    .dataframe tbody tr th:only-of-type {\n",
       "        vertical-align: middle;\n",
       "    }\n",
       "\n",
       "    .dataframe tbody tr th {\n",
       "        vertical-align: top;\n",
       "    }\n",
       "\n",
       "    .dataframe thead th {\n",
       "        text-align: right;\n",
       "    }\n",
       "</style>\n",
       "<table border=\"1\" class=\"dataframe\">\n",
       "  <thead>\n",
       "    <tr style=\"text-align: right;\">\n",
       "      <th></th>\n",
       "      <th>product_id</th>\n",
       "      <th>comment</th>\n",
       "      <th>recommend</th>\n",
       "      <th>eng_comment</th>\n",
       "    </tr>\n",
       "  </thead>\n",
       "  <tbody>\n",
       "    <tr>\n",
       "      <th>0</th>\n",
       "      <td>111178</td>\n",
       "      <td>در کل وسیله ای خوب و مورد نیاز است. اگر یک میل...</td>\n",
       "      <td>recommended</td>\n",
       "      <td>Overall a good and needed tool. If a flat bar ...</td>\n",
       "    </tr>\n",
       "    <tr>\n",
       "      <th>1</th>\n",
       "      <td>180451</td>\n",
       "      <td>تو خریدش شک نکنید،عالی و بسیار کاربردی</td>\n",
       "      <td>recommended</td>\n",
       "      <td>Do not hesitate to buy it, excellent and very ...</td>\n",
       "    </tr>\n",
       "    <tr>\n",
       "      <th>2</th>\n",
       "      <td>195191</td>\n",
       "      <td>فست شارژ داره که خیلی خوبه\\r\\nکیفیت بدنش عالیه...</td>\n",
       "      <td>recommended</td>\n",
       "      <td>It has a fast charge, which is very good  The ...</td>\n",
       "    </tr>\n",
       "    <tr>\n",
       "      <th>3</th>\n",
       "      <td>195191</td>\n",
       "      <td>بیش از ۲ سال پیش از دیجی خریدم  با وجود ناراضی...</td>\n",
       "      <td>recommended</td>\n",
       "      <td>I bought it from Digi more than 2 years ago, d...</td>\n",
       "    </tr>\n",
       "    <tr>\n",
       "      <th>4</th>\n",
       "      <td>180451</td>\n",
       "      <td>واقعا خیلی ازش راضی هستم\\r\\nبی نقص</td>\n",
       "      <td>recommended</td>\n",
       "      <td>I am really very satisfied with it  flawless</td>\n",
       "    </tr>\n",
       "  </tbody>\n",
       "</table>\n",
       "</div>"
      ],
      "text/plain": [
       "   product_id                                            comment    recommend  \\\n",
       "0      111178  در کل وسیله ای خوب و مورد نیاز است. اگر یک میل...  recommended   \n",
       "1      180451             تو خریدش شک نکنید،عالی و بسیار کاربردی  recommended   \n",
       "2      195191  فست شارژ داره که خیلی خوبه\\r\\nکیفیت بدنش عالیه...  recommended   \n",
       "3      195191  بیش از ۲ سال پیش از دیجی خریدم  با وجود ناراضی...  recommended   \n",
       "4      180451                 واقعا خیلی ازش راضی هستم\\r\\nبی نقص  recommended   \n",
       "\n",
       "                                         eng_comment  \n",
       "0  Overall a good and needed tool. If a flat bar ...  \n",
       "1  Do not hesitate to buy it, excellent and very ...  \n",
       "2  It has a fast charge, which is very good  The ...  \n",
       "3  I bought it from Digi more than 2 years ago, d...  \n",
       "4      I am really very satisfied with it  flawless   "
      ]
     },
     "execution_count": 20,
     "metadata": {},
     "output_type": "execute_result"
    }
   ],
   "source": [
    "translated = pd.read_csv('translate_dataset.csv')\n",
    "translated.head()"
   ]
  },
  {
   "cell_type": "code",
   "execution_count": 19,
   "metadata": {},
   "outputs": [
    {
     "name": "stdout",
     "output_type": "stream",
     "text": [
      "<class 'pandas.core.frame.DataFrame'>\n",
      "RangeIndex: 1176 entries, 0 to 1175\n",
      "Data columns (total 4 columns):\n",
      " #   Column       Non-Null Count  Dtype \n",
      "---  ------       --------------  ----- \n",
      " 0   product_id   1176 non-null   int64 \n",
      " 1   comment      1176 non-null   object\n",
      " 2   recommend    1176 non-null   object\n",
      " 3   eng_comment  1176 non-null   object\n",
      "dtypes: int64(1), object(3)\n",
      "memory usage: 36.9+ KB\n"
     ]
    }
   ],
   "source": [
    "translated.info()"
   ]
  },
  {
   "cell_type": "code",
   "execution_count": null,
   "metadata": {},
   "outputs": [],
   "source": []
  },
  {
   "cell_type": "code",
   "execution_count": null,
   "metadata": {},
   "outputs": [],
   "source": []
  },
  {
   "cell_type": "code",
   "execution_count": null,
   "metadata": {},
   "outputs": [],
   "source": [
    "dataset = pd.read_csv('preprocessed_dataset.csv')\n",
    "dataset.head()"
   ]
  },
  {
   "cell_type": "code",
   "execution_count": null,
   "metadata": {},
   "outputs": [],
   "source": [
    "preprocessed_comments = []\n",
    "for comment in dataset['eng_comment']:\n",
    "    # Lowercase\n",
    "    comment = comment.lower()\n",
    "    # Removing Punctuation\n",
    "    comment = \"\".join([char for char in comment if char not in string.punctuation])\n",
    "    # Word Tokenization\n",
    "    comment = word_tokenize(comment)\n",
    "    # Stopword Filtering\n",
    "    comment = [word for word in comment if word not in stop_words]\n",
    "    # Stemming\n",
    "    porter = PorterStemmer()\n",
    "    comment = [porter.stem(word) for word in comment]\n",
    "    \n",
    "    preprocessed_comments.append(comment)\n",
    "\n",
    "preprocessed_comments[:5]"
   ]
  },
  {
   "cell_type": "code",
   "execution_count": null,
   "metadata": {},
   "outputs": [],
   "source": []
  },
  {
   "cell_type": "code",
   "execution_count": null,
   "metadata": {},
   "outputs": [],
   "source": [
    "import matplotlib.pyplot as plt\n",
    "from sklearn.cluster import KMeans\n",
    "\n",
    "Sum_of_squared_distances = []\n",
    "K = range(2,10)\n",
    "\n",
    "for k in K:\n",
    "   km = KMeans(n_clusters=k, max_iter=200, n_init=10)\n",
    "   km = km.fit(X)\n",
    "   Sum_of_squared_distances.append(km.inertia_)\n",
    "\n",
    "plt.plot(K, Sum_of_squared_distances, 'bx-')\n",
    "plt.xlabel('k')\n",
    "plt.ylabel('Sum_of_squared_distances')\n",
    "plt.title('Elbow Method For Optimal k')\n",
    "plt.show()"
   ]
  },
  {
   "cell_type": "code",
   "execution_count": null,
   "metadata": {},
   "outputs": [],
   "source": [
    "vectorizer = TfidfVectorizer(stop_words={'english'})\n",
    "X = vectorizer.fit_transform(translates)"
   ]
  },
  {
   "cell_type": "code",
   "execution_count": null,
   "metadata": {},
   "outputs": [],
   "source": [
    "true_k = 6\n",
    "model = KMeans(n_clusters=true_k, init='k-means++', max_iter=200, n_init=10)\n",
    "model.fit(X)\n",
    "labels=model.labels_\n",
    "wiki_cl=pd.DataFrame(list(zip(dataset['eng_comment'],labels)),columns=['recommend','cluster'])\n",
    "print(wiki_cl.sort_values(by=['cluster']))"
   ]
  },
  {
   "cell_type": "code",
   "execution_count": null,
   "metadata": {},
   "outputs": [],
   "source": []
  },
  {
   "cell_type": "code",
   "execution_count": null,
   "metadata": {},
   "outputs": [],
   "source": []
  },
  {
   "cell_type": "code",
   "execution_count": null,
   "metadata": {},
   "outputs": [],
   "source": []
  }
 ],
 "metadata": {
  "kernelspec": {
   "display_name": "Python 3",
   "language": "python",
   "name": "python3"
  },
  "language_info": {
   "codemirror_mode": {
    "name": "ipython",
    "version": 3
   },
   "file_extension": ".py",
   "mimetype": "text/x-python",
   "name": "python",
   "nbconvert_exporter": "python",
   "pygments_lexer": "ipython3",
   "version": "3.8.6"
  }
 },
 "nbformat": 4,
 "nbformat_minor": 4
}
